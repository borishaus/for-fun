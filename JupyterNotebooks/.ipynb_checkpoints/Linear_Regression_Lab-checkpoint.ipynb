{
 "cells": [
  {
   "cell_type": "markdown",
   "id": "87d9b484-ceb3-4045-aea8-af69b42c4475",
   "metadata": {},
   "source": [
    "In this ungraded lab, you can see how a linear regression model is defined in code, and you can see plots that show how well a model fits some data given choices of w and b.  You can also try different values of w and b to see if it improves the fit to the data."
   ]
  },
  {
   "attachments": {},
   "cell_type": "markdown",
   "id": "34b77637-773f-47fa-8005-fe5f177932ce",
   "metadata": {},
   "source": [
    "Goals\n",
    "\n",
    "In this lab you will:\n",
    "\n",
    "    Learn to implement the model 𝑓𝑤,𝑏\n",
    "\n",
    "for linear regression with one variable"
   ]
  },
  {
   "cell_type": "markdown",
   "id": "82ee87ee-8a49-4749-bbb0-cc65cd6c72a2",
   "metadata": {},
   "source": [
    "Notation\n",
    "\n",
    "Here is a summary of some of the notation you will encounter.\n",
    "General\n",
    "Notation \tDescription \tPython (if applicable)\n",
    "𝑎\n",
    "\tscalar, non bold \t\n",
    "𝐚\n",
    "\tvector, bold \t\n",
    "Regression \t\t\n",
    "𝐱\n",
    "\tTraining Example feature values (in this lab - Size (1000 sqft)) \tx_train\n",
    "𝐲\n",
    "\tTraining Example targets (in this lab Price (1000s of dollars)) \ty_train\n",
    "𝑥(𝑖)\n",
    ", 𝑦(𝑖)\n",
    "\t𝑖𝑡ℎ\n",
    "Training Example \tx_i, y_i\n",
    "m \tNumber of training examples \tm\n",
    "𝑤\n",
    "\tparameter: weight \tw\n",
    "𝑏\n",
    "\tparameter: bias \tb\n",
    "𝑓𝑤,𝑏(𝑥(𝑖))\n",
    "\tThe result of the model evaluation at 𝑥(𝑖)\n",
    "parameterized by 𝑤,𝑏: 𝑓𝑤,𝑏(𝑥(𝑖))=𝑤𝑥(𝑖)+𝑏\n",
    "\tf_wb"
   ]
  },
  {
   "cell_type": "code",
   "execution_count": 1,
   "id": "fe9071d1-3a21-4afa-9fab-11851ae49c9e",
   "metadata": {},
   "outputs": [
    {
     "ename": "ModuleNotFoundError",
     "evalue": "No module named 'matplotlib'",
     "output_type": "error",
     "traceback": [
      "\u001b[1;31m---------------------------------------------------------------------------\u001b[0m",
      "\u001b[1;31mModuleNotFoundError\u001b[0m                       Traceback (most recent call last)",
      "Cell \u001b[1;32mIn[1], line 4\u001b[0m\n\u001b[0;32m      2\u001b[0m \u001b[38;5;28;01mimport\u001b[39;00m \u001b[38;5;21;01mnumpy\u001b[39;00m \u001b[38;5;28;01mas\u001b[39;00m \u001b[38;5;21;01mnp\u001b[39;00m \n\u001b[0;32m      3\u001b[0m \u001b[38;5;66;03m# Import the matplotlib library's pyplot module for plotting\u001b[39;00m\n\u001b[1;32m----> 4\u001b[0m \u001b[38;5;28;01mimport\u001b[39;00m \u001b[38;5;21;01mmatplotlib\u001b[39;00m\u001b[38;5;21;01m.\u001b[39;00m\u001b[38;5;21;01mpyplot\u001b[39;00m \u001b[38;5;28;01mas\u001b[39;00m \u001b[38;5;21;01mplt\u001b[39;00m\n\u001b[0;32m      5\u001b[0m \u001b[38;5;66;03m# Apply a custom style to all the plots from a specified style file\u001b[39;00m\n\u001b[0;32m      6\u001b[0m plt\u001b[38;5;241m.\u001b[39mstyle\u001b[38;5;241m.\u001b[39muse(\u001b[38;5;124m'\u001b[39m\u001b[38;5;124m./deeplearning.mplstyle\u001b[39m\u001b[38;5;124m'\u001b[39m)\n",
      "\u001b[1;31mModuleNotFoundError\u001b[0m: No module named 'matplotlib'"
     ]
    }
   ],
   "source": [
    "# this is numpy, a popular library for scientific computing\n",
    "import numpy as np \n",
    "# Import the matplotlib library's pyplot module for plotting\n",
    "import matplotlib.pyplot as plt\n",
    "# Apply a custom style to all the plots from a specified style file\n",
    "plt.style.use('./deeplearning.mplstyle')"
   ]
  },
  {
   "cell_type": "markdown",
   "id": "171b927c-4c5a-429d-9ced-02fcffe7ed4c",
   "metadata": {},
   "source": [
    "Problem Statement\n",
    "\n",
    "As in the lecture, you will use the motivating example of housing price prediction.\n",
    "This lab will use a simple data set with only two data points - a house with 1000 square feet(sqft) sold for $300,000 and a house with 2000 square feet sold for $500,000. These two points will constitute our data or training set. In this lab, the units of size are 1000 sqft and the units of price are 1000s of dollars.\n",
    "Size (1000 sqft) \tPrice (1000s of dollars)\n",
    "1.0 \t300\n",
    "2.0 \t500\n",
    "\n",
    "You would like to fit a linear regression model (shown above as the blue straight line) through these two points, so you can then predict price for other houses - say, a house with 1200 sqft.\n"
   ]
  },
  {
   "cell_type": "markdown",
   "id": "179d8a1f-b379-47a1-a04d-a691d7eb7854",
   "metadata": {},
   "source": [
    "Please run the following code cell to create your x_train and y_train variables. The data is stored in one-dimensional NumPy arrays. nEW CHANGE\n"
   ]
  },
  {
   "cell_type": "code",
   "execution_count": null,
   "id": "d29795c8-8ce4-4b93-a882-9fd4a6dd96e5",
   "metadata": {},
   "outputs": [],
   "source": []
  }
 ],
 "metadata": {
  "kernelspec": {
   "display_name": "Python 3 (ipykernel)",
   "language": "python",
   "name": "python3"
  },
  "language_info": {
   "codemirror_mode": {
    "name": "ipython",
    "version": 3
   },
   "file_extension": ".py",
   "mimetype": "text/x-python",
   "name": "python",
   "nbconvert_exporter": "python",
   "pygments_lexer": "ipython3",
   "version": "3.11.5"
  }
 },
 "nbformat": 4,
 "nbformat_minor": 5
}

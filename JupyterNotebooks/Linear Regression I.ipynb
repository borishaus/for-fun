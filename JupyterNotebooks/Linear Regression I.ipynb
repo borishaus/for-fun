{
 "cells": [
  {
   "cell_type": "markdown",
   "id": "ed605162-063d-40b7-a3ea-8cf84bf35027",
   "metadata": {},
   "source": [
    "This is what is known as a markdown cell\n",
    "I can do just about anytthing I like in this cell"
   ]
  },
  {
   "cell_type": "code",
   "execution_count": 4,
   "id": "e862efad-47b3-481b-ab9f-8cf07d61ff30",
   "metadata": {
    "jupyter": {
     "source_hidden": true
    }
   },
   "outputs": [
    {
     "name": "stdout",
     "output_type": "stream",
     "text": [
      "This is  code celllllll\n"
     ]
    }
   ],
   "source": [
    "#This is  a 'Code' Cell\n",
    "print(\"This is  code celllllll\")"
   ]
  },
  {
   "cell_type": "code",
   "execution_count": 5,
   "id": "533aec27-aac0-4a09-874b-2e23e38638c3",
   "metadata": {},
   "outputs": [
    {
     "name": "stdout",
     "output_type": "stream",
     "text": [
      "This is also a code celllllll\n"
     ]
    }
   ],
   "source": [
    "#this is also a code cell\n",
    "print(\"This is also a code celllllll\")"
   ]
  },
  {
   "cell_type": "code",
   "execution_count": 7,
   "id": "915ea652-ca34-4490-ac7c-cc751d636f6f",
   "metadata": {},
   "outputs": [
    {
     "name": "stdout",
     "output_type": "stream",
     "text": [
      "f strings allow you to embed variables right in the strings!\n"
     ]
    }
   ],
   "source": [
    "# print statements\n",
    "variable = \"right in the strings!\"\n",
    "print(f\"f strings allow you to embed variables {variable}\")"
   ]
  },
  {
   "attachments": {},
   "cell_type": "markdown",
   "id": "e0220f1b-a7e6-48f6-93f6-4b933f4c1c99",
   "metadata": {},
   "source": [
    "Course 1 Regression Models Part 1 \n",
    "\n",
    "- Regression models predict numberts, \n",
    "- supervised learning model has \"right answers\" \n",
    "- classification model predicts categories, small number of possible outputs\n",
    "\n",
    "  Terminology:\n",
    "  - Training set: data used to train the model\n",
    "  - set x is called the \"input\" variable or input \"feature\"\n",
    "  - y is the output variable or target variable\n",
    "  - m is the number of training examples\n",
    "  - x^i,y^i is the ith training example\n",
    "  - \n",
    "\n"
   ]
  },
  {
   "cell_type": "markdown",
   "id": "38763ad5-1cfc-4e34-ba03-e70b4c446c94",
   "metadata": {},
   "source": [
    "by listing the first six prime numbers: 2,3,4,7,11,13 we can see that the 6th prime is 13\n",
    "what is the 10,001st prime number? \n",
    "project eueler\n",
    "borishaus\n",
    "Tycoon1!\n",
    "\n",
    "\n"
   ]
  },
  {
   "cell_type": "code",
   "execution_count": 2,
   "id": "aa33cefc-25b5-46ea-a262-3d8e9f8d8e66",
   "metadata": {},
   "outputs": [
    {
     "name": "stdout",
     "output_type": "stream",
     "text": [
      "6\n",
      "True\n",
      "104743\n"
     ]
    }
   ],
   "source": [
    "#brute force method\n",
    "\n",
    "primes = [2,3,4,7,11,13]\n",
    "print(len(primes))\n",
    "runningNumber = 15\n",
    "\n",
    "\n",
    "def checkIfPrime(number):\n",
    "    for x in primes:\n",
    "        if number%x == 0:\n",
    "            return False\n",
    "    return True\n",
    "\n",
    "print(checkIfPrime(19))\n",
    "\n",
    "while len(primes) <10002:\n",
    "    if checkIfPrime(runningNumber):\n",
    "        primes.append(runningNumber)\n",
    "        runningNumber = runningNumber +1\n",
    "    else:\n",
    "        runningNumber=runningNumber+1\n",
    "\n",
    "print(primes[10001])\n",
    "\n",
    "#This works!!!!\n"
   ]
  },
  {
   "cell_type": "markdown",
   "id": "93e3efcd-64d4-4acf-8dca-1e5248dff5a3",
   "metadata": {},
   "source": [
    "A training set has features and targets\n",
    "THe learning algorithm creats a function f\n",
    "x is the feature, y-hat is the prediction, and y is the target\n",
    "The trouble is how to represent F , \n",
    "\n",
    "F(x) = wx+b would be the a linear function. "
   ]
  },
  {
   "cell_type": "markdown",
   "id": "7a4ebac8-1eb9-4698-994c-c6d624602a72",
   "metadata": {},
   "source": [
    "Cost function formula,\n",
    "\n",
    "Remember a bunch of super basic shit from elementary school\n",
    "\n",
    "A cost funciton takes a prediction (y-hat) and compares it to y by taking SUM(y-hat-y)^2 for all y then we divide by 2m - also known as the squared ewrror cost funciton - the most commonly used one\n",
    "\n"
   ]
  },
  {
   "cell_type": "code",
   "execution_count": null,
   "id": "8a5c905e-f068-4fb7-b597-f57a63443b1e",
   "metadata": {},
   "outputs": [],
   "source": []
  }
 ],
 "metadata": {
  "kernelspec": {
   "display_name": "Python 3 (ipykernel)",
   "language": "python",
   "name": "python3"
  },
  "language_info": {
   "codemirror_mode": {
    "name": "ipython",
    "version": 3
   },
   "file_extension": ".py",
   "mimetype": "text/x-python",
   "name": "python",
   "nbconvert_exporter": "python",
   "pygments_lexer": "ipython3",
   "version": "3.11.5"
  }
 },
 "nbformat": 4,
 "nbformat_minor": 5
}
